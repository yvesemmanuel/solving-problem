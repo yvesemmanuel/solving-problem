{
 "cells": [
  {
   "cell_type": "markdown",
   "metadata": {},
   "source": [
    "### **Functions Visualization**"
   ]
  },
  {
   "cell_type": "code",
   "execution_count": null,
   "metadata": {},
   "outputs": [],
   "source": [
    "from functions import (\n",
    "    Ackley,\n",
    "    Rastrigin,\n",
    "    Schwefel,\n",
    "    Rosenbrock\n",
    ")"
   ]
  },
  {
   "cell_type": "code",
   "execution_count": null,
   "metadata": {},
   "outputs": [],
   "source": [
    "ackley = Ackley(d=2)\n",
    "ackley.compute_n_show()"
   ]
  },
  {
   "cell_type": "code",
   "execution_count": null,
   "metadata": {},
   "outputs": [],
   "source": [
    "Rastrigin = Rastrigin(d=2)\n",
    "Rastrigin.compute_n_show()"
   ]
  },
  {
   "cell_type": "code",
   "execution_count": null,
   "metadata": {},
   "outputs": [],
   "source": [
    "Schwefel = Schwefel(d=2)\n",
    "Schwefel.compute_n_show()"
   ]
  },
  {
   "cell_type": "code",
   "execution_count": null,
   "metadata": {},
   "outputs": [],
   "source": [
    "Rosenbrock = Rosenbrock(d=2)\n",
    "Rosenbrock.compute_n_show()"
   ]
  },
  {
   "cell_type": "markdown",
   "metadata": {},
   "source": [
    "### **Finding Global Minimum with GA**"
   ]
  },
  {
   "cell_type": "code",
   "execution_count": null,
   "metadata": {},
   "outputs": [],
   "source": [
    "from solver import ES\n",
    "\n",
    "from plots import (\n",
    "    exp_mean_fitness_per_generation,\n",
    "    exp_mean_n_best_fit_per_ite\n",
    ")"
   ]
  },
  {
   "cell_type": "markdown",
   "metadata": {},
   "source": [
    "##### Ackley"
   ]
  },
  {
   "cell_type": "code",
   "execution_count": null,
   "metadata": {},
   "outputs": [],
   "source": [
    "params_0 = dict(\n",
    "    function='Ackley',\n",
    "    pop_size=250,\n",
    "    num_offspring=900,\n",
    "    proba_mutation=1,\n",
    "    proba_crossover=0.1,\n",
    "    learning_rate=0.42,\n",
    "    sigma_threshold=2,\n",
    "    tournament_size=10,\n",
    "\n",
    "    chromosome_size=30,\n",
    "    max_generations=1000,\n",
    "    fitness_threshold=1e-4,\n",
    "    cost_function_type='function'\n",
    ")\n",
    "\n",
    "output_data_0 = ES(\n",
    "    **params_0\n",
    ").optimize(verbose=True, **params_0)"
   ]
  },
  {
   "cell_type": "code",
   "execution_count": null,
   "metadata": {},
   "outputs": [],
   "source": [
    "output_data_0['solution_distance']"
   ]
  },
  {
   "cell_type": "code",
   "execution_count": null,
   "metadata": {},
   "outputs": [],
   "source": [
    "title = f'Mean Fitness per Generation ({params_0[\"function\"]}-{params_0[\"cost_function_type\"]})'\n",
    "\n",
    "exp_mean_fitness_per_generation(output_data_0, title)"
   ]
  },
  {
   "cell_type": "code",
   "execution_count": null,
   "metadata": {},
   "outputs": [],
   "source": [
    "title = f'Mean and Best Fitness per Generation ({params_0[\"function\"]}-{params_0[\"cost_function_type\"]})'\n",
    "\n",
    "exp_mean_n_best_fit_per_ite(output_data_0, title)"
   ]
  },
  {
   "cell_type": "markdown",
   "metadata": {},
   "source": [
    "##### Rastrigin"
   ]
  },
  {
   "cell_type": "code",
   "execution_count": null,
   "metadata": {},
   "outputs": [],
   "source": [
    "params_1 = dict(\n",
    "    function='Rastrigin',\n",
    "    chromosome_size=30,\n",
    "    max_generations=500,\n",
    "    proba_mutation=0.05,\n",
    "    fitness_threshold=1e-4,\n",
    "    cost_function_type='function'\n",
    ")\n",
    "\n",
    "output_data_1 = ES(\n",
    "    **params_1\n",
    ").optimize(verbose=True, **params_1)"
   ]
  },
  {
   "cell_type": "code",
   "execution_count": null,
   "metadata": {},
   "outputs": [],
   "source": [
    "output_data_1['solution_distance']"
   ]
  },
  {
   "cell_type": "code",
   "execution_count": null,
   "metadata": {},
   "outputs": [],
   "source": [
    "title = f'Mean Fitness per Generation ({params_1[\"function\"]}-{params_1[\"cost_function_type\"]})'\n",
    "\n",
    "exp_mean_fitness_per_generation(output_data_1, title)"
   ]
  },
  {
   "cell_type": "code",
   "execution_count": null,
   "metadata": {},
   "outputs": [],
   "source": [
    "title = f'Mean and Best Fitness per Generation ({params_1[\"function\"]}-{params_1[\"cost_function_type\"]})'\n",
    "\n",
    "exp_mean_n_best_fit_per_ite(output_data_1, title)"
   ]
  },
  {
   "cell_type": "markdown",
   "metadata": {},
   "source": [
    "##### Schwefel"
   ]
  },
  {
   "cell_type": "code",
   "execution_count": null,
   "metadata": {},
   "outputs": [],
   "source": [
    "params_2 = dict(\n",
    "    function='Schwefel',\n",
    "    pop_size=1000,\n",
    "    tournament_size=10,\n",
    "    num_offspring=500,\n",
    "    max_generations=5000,\n",
    "\n",
    "    chromosome_size=30,\n",
    "    proba_mutation=0.05,\n",
    "    fitness_threshold=1e-4,\n",
    "    cost_function_type='function'\n",
    ")\n",
    "\n",
    "output_data_2 = ES(\n",
    "    **params_2\n",
    ").optimize(verbose=True, **params_2)"
   ]
  },
  {
   "cell_type": "code",
   "execution_count": null,
   "metadata": {},
   "outputs": [],
   "source": [
    "output_data_2['solution_distance']"
   ]
  },
  {
   "cell_type": "code",
   "execution_count": null,
   "metadata": {},
   "outputs": [],
   "source": [
    "title = f'Mean Fitness per Generation ({params_2[\"function\"]}-{params_2[\"cost_function_type\"]})'\n",
    "\n",
    "exp_mean_fitness_per_generation(output_data_2, title)"
   ]
  },
  {
   "cell_type": "code",
   "execution_count": null,
   "metadata": {},
   "outputs": [],
   "source": [
    "title = f'Mean and Best Fitness per Generation ({params_2[\"function\"]}-{params_2[\"cost_function_type\"]})'\n",
    "\n",
    "exp_mean_n_best_fit_per_ite(output_data_2, title)"
   ]
  },
  {
   "cell_type": "markdown",
   "metadata": {},
   "source": [
    "##### Rosenbrock"
   ]
  },
  {
   "cell_type": "code",
   "execution_count": null,
   "metadata": {},
   "outputs": [],
   "source": [
    "params_3 = dict(\n",
    "    function='Rosenbrock',\n",
    "    chromosome_size=30,\n",
    "    pop_size=200,\n",
    "    tournament_size=5,\n",
    "    num_offspring=1000,\n",
    "    max_generations=5000,\n",
    "    proba_mutation=0.05,\n",
    "    proba_crossover=1,\n",
    "    fitness_threshold=0.1,\n",
    "    cost_function_type='function'\n",
    ")\n",
    "\n",
    "output_data_3 = ES(\n",
    "    **params_3\n",
    ").optimize(verbose=True, **params_3)"
   ]
  },
  {
   "cell_type": "code",
   "execution_count": null,
   "metadata": {},
   "outputs": [],
   "source": [
    "title = f'Mean Fitness per Generation ({params_3[\"function\"]}-{params_3[\"cost_function_type\"]})'\n",
    "\n",
    "exp_mean_fitness_per_generation(output_data_3, title)"
   ]
  },
  {
   "cell_type": "code",
   "execution_count": null,
   "metadata": {},
   "outputs": [],
   "source": [
    "title = f'Mean and Best Fitness per Generation ({params_3[\"function\"]}-{params_3[\"cost_function_type\"]})'\n",
    "\n",
    "exp_mean_n_best_fit_per_ite(output_data_3, title)"
   ]
  }
 ],
 "metadata": {
  "kernelspec": {
   "display_name": "machine_learning",
   "language": "python",
   "name": "python3"
  },
  "language_info": {
   "codemirror_mode": {
    "name": "ipython",
    "version": 3
   },
   "file_extension": ".py",
   "mimetype": "text/x-python",
   "name": "python",
   "nbconvert_exporter": "python",
   "pygments_lexer": "ipython3",
   "version": "3.8.16"
  },
  "orig_nbformat": 4
 },
 "nbformat": 4,
 "nbformat_minor": 2
}
